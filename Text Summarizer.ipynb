{
 "cells": [
  {
   "cell_type": "code",
   "execution_count": 1,
   "metadata": {},
   "outputs": [],
   "source": [
    "import nltk\n",
    "from nltk.corpus import stopwords\n",
    "from nltk.cluster.util import cosine_distance\n",
    "import numpy as np\n",
    "import networkx as nx"
   ]
  },
  {
   "cell_type": "code",
   "execution_count": null,
   "metadata": {},
   "outputs": [],
   "source": [
    "def read_article(file_name):\n",
    "    file = open(file_name, \"r\")\n",
    "    filedata = file.readlines()\n",
    "    article = filedata[0].split(\". \")\n",
    "    sentences = []\n",
    "\n",
    "    for sentence in article:\n",
    "        print(sentence)\n",
    "        sentences.append(sentence.replace(\"[^a-zA-Z]\", \" \").split(\" \"))\n",
    "    sentences.pop() \n",
    "    \n",
    "    return sentences\n"
   ]
  },
  {
   "cell_type": "code",
   "execution_count": null,
   "metadata": {},
   "outputs": [],
   "source": [
    "def sentence_similarity(sent1, sent2, stopwords=None):\n",
    "    if stopwords is None:\n",
    "        stopwords = []\n",
    " \n",
    "    sent1 = [w.lower() for w in sent1]\n",
    "    sent2 = [w.lower() for w in sent2]\n",
    " \n",
    "    all_words = list(set(sent1 + sent2))\n",
    " \n",
    "    vector1 = [0] * len(all_words)\n",
    "    vector2 = [0] * len(all_words)\n",
    " \n",
    "    # build the vector for the first sentence\n",
    "    for w in sent1:\n",
    "        if w in stopwords:\n",
    "            continue\n",
    "        vector1[all_words.index(w)] += 1\n",
    " \n",
    "    # build the vector for the second sentence\n",
    "    for w in sent2:\n",
    "        if w in stopwords:\n",
    "            continue\n",
    "        vector2[all_words.index(w)] += 1\n",
    " \n",
    "    return 1 - cosine_distance(vector1, vector2)"
   ]
  },
  {
   "cell_type": "code",
   "execution_count": null,
   "metadata": {},
   "outputs": [],
   "source": [
    "def build_similarity_matrix(sentences, stop_words):\n",
    "    # Create an empty similarity matrix\n",
    "    similarity_matrix = np.zeros((len(sentences), len(sentences)))\n",
    " \n",
    "    for idx1 in range(len(sentences)):\n",
    "        for idx2 in range(len(sentences)):\n",
    "            if idx1 == idx2: #ignore if both are same sentences\n",
    "                continue \n",
    "            similarity_matrix[idx1][idx2] = sentence_similarity(sentences[idx1], sentences[idx2], stop_words)\n",
    "\n",
    "    return similarity_matrix"
   ]
  },
  {
   "cell_type": "code",
   "execution_count": null,
   "metadata": {},
   "outputs": [],
   "source": [
    "def generate_summary_to_file(input_file_name, output_file_name, top_n=5):\n",
    "    nltk.download(\"stopwords\")\n",
    "    stop_words = stopwords.words('english')\n",
    "    summarize_text = []\n",
    "\n",
    "    # Step 1 - Read text and split it\n",
    "    sentences =  read_article(input_file_name)\n",
    "\n",
    "    # Step 2 - Generate Similarity Matrix across sentences\n",
    "    sentence_similarity_matrix = build_similarity_matrix(sentences, stop_words)\n",
    "\n",
    "    # Step 3 - Rank sentences in similarity matrix\n",
    "    sentence_similarity_graph = nx.from_numpy_array(sentence_similarity_matrix)\n",
    "    scores = nx.pagerank(sentence_similarity_graph)\n",
    "\n",
    "    # Step 4 - Sort the rank and pick top sentences\n",
    "    ranked_sentences = sorted(((scores[i], s) for i, s in enumerate(sentences)), reverse=True)\n",
    "\n",
    "    for i in range(top_n):\n",
    "        summarize_text.append(\" \".join(ranked_sentences[i][1]))\n",
    "\n",
    "    # Step 5 - Write the summarized text to the output file\n",
    "    with open(output_file_name, \"w\") as output_file:\n",
    "        output_file.write(\". \".join(summarize_text))"
   ]
  },
  {
   "cell_type": "code",
   "execution_count": null,
   "metadata": {},
   "outputs": [
    {
     "ename": "NameError",
     "evalue": "name 'nltk' is not defined",
     "output_type": "error",
     "traceback": [
      "\u001b[0;31m---------------------------------------------------------------------------\u001b[0m",
      "\u001b[0;31mNameError\u001b[0m                                 Traceback (most recent call last)",
      "\u001b[1;32m/Users/dubeaditya/Desktop/Jama Punji/GVSU/Fall 2023/GA Work/Text Summarizer/Text Summarizer.ipynb Cell 6\u001b[0m line \u001b[0;36m6\n\u001b[1;32m      <a href='vscode-notebook-cell:/Users/dubeaditya/Desktop/Jama%20Punji/GVSU/Fall%202023/GA%20Work/Text%20Summarizer/Text%20Summarizer.ipynb#W5sZmlsZQ%3D%3D?line=2'>3</a>\u001b[0m output_file \u001b[39m=\u001b[39m \u001b[39m\"\u001b[39m\u001b[39msummary.txt\u001b[39m\u001b[39m\"\u001b[39m\n\u001b[1;32m      <a href='vscode-notebook-cell:/Users/dubeaditya/Desktop/Jama%20Punji/GVSU/Fall%202023/GA%20Work/Text%20Summarizer/Text%20Summarizer.ipynb#W5sZmlsZQ%3D%3D?line=4'>5</a>\u001b[0m \u001b[39m# Generate and save the summary to the output file\u001b[39;00m\n\u001b[0;32m----> <a href='vscode-notebook-cell:/Users/dubeaditya/Desktop/Jama%20Punji/GVSU/Fall%202023/GA%20Work/Text%20Summarizer/Text%20Summarizer.ipynb#W5sZmlsZQ%3D%3D?line=5'>6</a>\u001b[0m generate_summary_to_file(input_file, output_file, \u001b[39m2\u001b[39;49m)\n",
      "\u001b[1;32m/Users/dubeaditya/Desktop/Jama Punji/GVSU/Fall 2023/GA Work/Text Summarizer/Text Summarizer.ipynb Cell 6\u001b[0m line \u001b[0;36m2\n\u001b[1;32m      <a href='vscode-notebook-cell:/Users/dubeaditya/Desktop/Jama%20Punji/GVSU/Fall%202023/GA%20Work/Text%20Summarizer/Text%20Summarizer.ipynb#W5sZmlsZQ%3D%3D?line=0'>1</a>\u001b[0m \u001b[39mdef\u001b[39;00m \u001b[39mgenerate_summary_to_file\u001b[39m(input_file_name, output_file_name, top_n\u001b[39m=\u001b[39m\u001b[39m5\u001b[39m):\n\u001b[0;32m----> <a href='vscode-notebook-cell:/Users/dubeaditya/Desktop/Jama%20Punji/GVSU/Fall%202023/GA%20Work/Text%20Summarizer/Text%20Summarizer.ipynb#W5sZmlsZQ%3D%3D?line=1'>2</a>\u001b[0m     nltk\u001b[39m.\u001b[39mdownload(\u001b[39m\"\u001b[39m\u001b[39mstopwords\u001b[39m\u001b[39m\"\u001b[39m)\n\u001b[1;32m      <a href='vscode-notebook-cell:/Users/dubeaditya/Desktop/Jama%20Punji/GVSU/Fall%202023/GA%20Work/Text%20Summarizer/Text%20Summarizer.ipynb#W5sZmlsZQ%3D%3D?line=2'>3</a>\u001b[0m     stop_words \u001b[39m=\u001b[39m stopwords\u001b[39m.\u001b[39mwords(\u001b[39m'\u001b[39m\u001b[39menglish\u001b[39m\u001b[39m'\u001b[39m)\n\u001b[1;32m      <a href='vscode-notebook-cell:/Users/dubeaditya/Desktop/Jama%20Punji/GVSU/Fall%202023/GA%20Work/Text%20Summarizer/Text%20Summarizer.ipynb#W5sZmlsZQ%3D%3D?line=3'>4</a>\u001b[0m     summarize_text \u001b[39m=\u001b[39m []\n",
      "\u001b[0;31mNameError\u001b[0m: name 'nltk' is not defined"
     ]
    }
   ],
   "source": [
    "# Specify the input and output file names\n",
    "input_file = \"Text.txt\"\n",
    "output_file = \"summary.txt\"\n",
    "\n",
    "# Generate and save the summary to the output file\n",
    "generate_summary_to_file(input_file, output_file, 2)"
   ]
  }
 ],
 "metadata": {
  "kernelspec": {
   "display_name": "base",
   "language": "python",
   "name": "python3"
  },
  "language_info": {
   "codemirror_mode": {
    "name": "ipython",
    "version": 3
   },
   "file_extension": ".py",
   "mimetype": "text/x-python",
   "name": "python",
   "nbconvert_exporter": "python",
   "pygments_lexer": "ipython3",
   "version": "3.11.4"
  },
  "orig_nbformat": 4
 },
 "nbformat": 4,
 "nbformat_minor": 2
}
